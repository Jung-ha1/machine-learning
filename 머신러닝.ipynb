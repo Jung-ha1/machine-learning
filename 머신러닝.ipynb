{
  "nbformat": 4,
  "nbformat_minor": 0,
  "metadata": {
    "colab": {
      "name": "머신러닝",
      "provenance": [],
      "collapsed_sections": [],
      "authorship_tag": "ABX9TyMRsbfH23jnHWPczUjd207u",
      "include_colab_link": true
    },
    "kernelspec": {
      "name": "python3",
      "display_name": "Python 3"
    },
    "language_info": {
      "name": "python"
    }
  },
  "cells": [
    {
      "cell_type": "markdown",
      "metadata": {
        "id": "view-in-github",
        "colab_type": "text"
      },
      "source": [
        "<a href=\"https://colab.research.google.com/github/Jung-ha1/machine-learning/blob/main/%EB%A8%B8%EC%8B%A0%EB%9F%AC%EB%8B%9D.ipynb\" target=\"_parent\"><img src=\"https://colab.research.google.com/assets/colab-badge.svg\" alt=\"Open In Colab\"/></a>"
      ]
    },
    {
      "cell_type": "code",
      "metadata": {
        "colab": {
          "base_uri": "https://localhost:8080/",
          "height": 225
        },
        "id": "sT0CmRDuOj_I",
        "outputId": "cb8e72da-ffca-4107-e18d-4ab8a824db1c"
      },
      "source": [
        "import pathlib\n",
        "\n",
        "import matplotlib.pyplot as plt\n",
        "import pandas as pd\n",
        "import seaborn as sns\n",
        "\n",
        "import tensorflow as tf\n",
        "from tensorflow import keras\n",
        "from tensorflow.keras import layers\n",
        "\n",
        "print(tf.__version__)\n",
        "\n",
        "dataset_path = keras.utils.get_file(\"auto-mpg.data\", \"http://archive.ics.uci.edu/ml/machine-learning-databases/auto-mpg/auto-mpg.data\")\n",
        "dataset_path\n",
        "\n",
        "column_names = ['MPG','Cylinders','Displacement','Horsepower','Weight',\n",
        "                'Acceleration', 'Model Year', 'Origin']\n",
        "raw_dataset = pd.read_csv(dataset_path, names=column_names,\n",
        "                      na_values = \"?\", comment='\\t',\n",
        "                      sep=\" \", skipinitialspace=True)\n",
        "\n",
        "dataset = raw_dataset.copy()\n",
        "dataset.tail() # 맨 끝에 있는 값 일부를 보여줌"
      ],
      "execution_count": null,
      "outputs": [
        {
          "output_type": "stream",
          "text": [
            "2.5.0\n"
          ],
          "name": "stdout"
        },
        {
          "output_type": "execute_result",
          "data": {
            "text/html": [
              "<div>\n",
              "<style scoped>\n",
              "    .dataframe tbody tr th:only-of-type {\n",
              "        vertical-align: middle;\n",
              "    }\n",
              "\n",
              "    .dataframe tbody tr th {\n",
              "        vertical-align: top;\n",
              "    }\n",
              "\n",
              "    .dataframe thead th {\n",
              "        text-align: right;\n",
              "    }\n",
              "</style>\n",
              "<table border=\"1\" class=\"dataframe\">\n",
              "  <thead>\n",
              "    <tr style=\"text-align: right;\">\n",
              "      <th></th>\n",
              "      <th>MPG</th>\n",
              "      <th>Cylinders</th>\n",
              "      <th>Displacement</th>\n",
              "      <th>Horsepower</th>\n",
              "      <th>Weight</th>\n",
              "      <th>Acceleration</th>\n",
              "      <th>Model Year</th>\n",
              "      <th>Origin</th>\n",
              "    </tr>\n",
              "  </thead>\n",
              "  <tbody>\n",
              "    <tr>\n",
              "      <th>393</th>\n",
              "      <td>27.0</td>\n",
              "      <td>4</td>\n",
              "      <td>140.0</td>\n",
              "      <td>86.0</td>\n",
              "      <td>2790.0</td>\n",
              "      <td>15.6</td>\n",
              "      <td>82</td>\n",
              "      <td>1</td>\n",
              "    </tr>\n",
              "    <tr>\n",
              "      <th>394</th>\n",
              "      <td>44.0</td>\n",
              "      <td>4</td>\n",
              "      <td>97.0</td>\n",
              "      <td>52.0</td>\n",
              "      <td>2130.0</td>\n",
              "      <td>24.6</td>\n",
              "      <td>82</td>\n",
              "      <td>2</td>\n",
              "    </tr>\n",
              "    <tr>\n",
              "      <th>395</th>\n",
              "      <td>32.0</td>\n",
              "      <td>4</td>\n",
              "      <td>135.0</td>\n",
              "      <td>84.0</td>\n",
              "      <td>2295.0</td>\n",
              "      <td>11.6</td>\n",
              "      <td>82</td>\n",
              "      <td>1</td>\n",
              "    </tr>\n",
              "    <tr>\n",
              "      <th>396</th>\n",
              "      <td>28.0</td>\n",
              "      <td>4</td>\n",
              "      <td>120.0</td>\n",
              "      <td>79.0</td>\n",
              "      <td>2625.0</td>\n",
              "      <td>18.6</td>\n",
              "      <td>82</td>\n",
              "      <td>1</td>\n",
              "    </tr>\n",
              "    <tr>\n",
              "      <th>397</th>\n",
              "      <td>31.0</td>\n",
              "      <td>4</td>\n",
              "      <td>119.0</td>\n",
              "      <td>82.0</td>\n",
              "      <td>2720.0</td>\n",
              "      <td>19.4</td>\n",
              "      <td>82</td>\n",
              "      <td>1</td>\n",
              "    </tr>\n",
              "  </tbody>\n",
              "</table>\n",
              "</div>"
            ],
            "text/plain": [
              "      MPG  Cylinders  Displacement  ...  Acceleration  Model Year  Origin\n",
              "393  27.0          4         140.0  ...          15.6          82       1\n",
              "394  44.0          4          97.0  ...          24.6          82       2\n",
              "395  32.0          4         135.0  ...          11.6          82       1\n",
              "396  28.0          4         120.0  ...          18.6          82       1\n",
              "397  31.0          4         119.0  ...          19.4          82       1\n",
              "\n",
              "[5 rows x 8 columns]"
            ]
          },
          "metadata": {
            "tags": []
          },
          "execution_count": 8
        }
      ]
    },
    {
      "cell_type": "code",
      "metadata": {
        "colab": {
          "base_uri": "https://localhost:8080/",
          "height": 206
        },
        "id": "82g1eW48RfZd",
        "outputId": "a45bdbd4-5c35-4da6-8a16-701691605c10"
      },
      "source": [
        "dataset.head() # 맨 앞에 있는 값 일부를 보여줌"
      ],
      "execution_count": null,
      "outputs": [
        {
          "output_type": "execute_result",
          "data": {
            "text/html": [
              "<div>\n",
              "<style scoped>\n",
              "    .dataframe tbody tr th:only-of-type {\n",
              "        vertical-align: middle;\n",
              "    }\n",
              "\n",
              "    .dataframe tbody tr th {\n",
              "        vertical-align: top;\n",
              "    }\n",
              "\n",
              "    .dataframe thead th {\n",
              "        text-align: right;\n",
              "    }\n",
              "</style>\n",
              "<table border=\"1\" class=\"dataframe\">\n",
              "  <thead>\n",
              "    <tr style=\"text-align: right;\">\n",
              "      <th></th>\n",
              "      <th>MPG</th>\n",
              "      <th>Cylinders</th>\n",
              "      <th>Displacement</th>\n",
              "      <th>Horsepower</th>\n",
              "      <th>Weight</th>\n",
              "      <th>Acceleration</th>\n",
              "      <th>Model Year</th>\n",
              "      <th>Origin</th>\n",
              "    </tr>\n",
              "  </thead>\n",
              "  <tbody>\n",
              "    <tr>\n",
              "      <th>0</th>\n",
              "      <td>18.0</td>\n",
              "      <td>8</td>\n",
              "      <td>307.0</td>\n",
              "      <td>130.0</td>\n",
              "      <td>3504.0</td>\n",
              "      <td>12.0</td>\n",
              "      <td>70</td>\n",
              "      <td>1</td>\n",
              "    </tr>\n",
              "    <tr>\n",
              "      <th>1</th>\n",
              "      <td>15.0</td>\n",
              "      <td>8</td>\n",
              "      <td>350.0</td>\n",
              "      <td>165.0</td>\n",
              "      <td>3693.0</td>\n",
              "      <td>11.5</td>\n",
              "      <td>70</td>\n",
              "      <td>1</td>\n",
              "    </tr>\n",
              "    <tr>\n",
              "      <th>2</th>\n",
              "      <td>18.0</td>\n",
              "      <td>8</td>\n",
              "      <td>318.0</td>\n",
              "      <td>150.0</td>\n",
              "      <td>3436.0</td>\n",
              "      <td>11.0</td>\n",
              "      <td>70</td>\n",
              "      <td>1</td>\n",
              "    </tr>\n",
              "    <tr>\n",
              "      <th>3</th>\n",
              "      <td>16.0</td>\n",
              "      <td>8</td>\n",
              "      <td>304.0</td>\n",
              "      <td>150.0</td>\n",
              "      <td>3433.0</td>\n",
              "      <td>12.0</td>\n",
              "      <td>70</td>\n",
              "      <td>1</td>\n",
              "    </tr>\n",
              "    <tr>\n",
              "      <th>4</th>\n",
              "      <td>17.0</td>\n",
              "      <td>8</td>\n",
              "      <td>302.0</td>\n",
              "      <td>140.0</td>\n",
              "      <td>3449.0</td>\n",
              "      <td>10.5</td>\n",
              "      <td>70</td>\n",
              "      <td>1</td>\n",
              "    </tr>\n",
              "  </tbody>\n",
              "</table>\n",
              "</div>"
            ],
            "text/plain": [
              "    MPG  Cylinders  Displacement  ...  Acceleration  Model Year  Origin\n",
              "0  18.0          8         307.0  ...          12.0          70       1\n",
              "1  15.0          8         350.0  ...          11.5          70       1\n",
              "2  18.0          8         318.0  ...          11.0          70       1\n",
              "3  16.0          8         304.0  ...          12.0          70       1\n",
              "4  17.0          8         302.0  ...          10.5          70       1\n",
              "\n",
              "[5 rows x 8 columns]"
            ]
          },
          "metadata": {
            "tags": []
          },
          "execution_count": 9
        }
      ]
    },
    {
      "cell_type": "code",
      "metadata": {
        "colab": {
          "base_uri": "https://localhost:8080/"
        },
        "id": "d2IRJ7hjSiJf",
        "outputId": "4a7745db-44e8-4d42-97f7-fde0e111d8b0"
      },
      "source": [
        "len(dataset) # dataset의 길이"
      ],
      "execution_count": null,
      "outputs": [
        {
          "output_type": "execute_result",
          "data": {
            "text/plain": [
              "398"
            ]
          },
          "metadata": {
            "tags": []
          },
          "execution_count": 11
        }
      ]
    },
    {
      "cell_type": "code",
      "metadata": {
        "colab": {
          "base_uri": "https://localhost:8080/"
        },
        "id": "JATxSPhSS6AB",
        "outputId": "b2a73559-0562-4b3c-99c3-7e63f45ea0cf"
      },
      "source": [
        "dataset = dataset.dropna() # 데이터에서 필요없는 값을 na 라고 하며 이것을 지우기 위해 씀\n",
        "len(dataset)"
      ],
      "execution_count": null,
      "outputs": [
        {
          "output_type": "execute_result",
          "data": {
            "text/plain": [
              "392"
            ]
          },
          "metadata": {
            "tags": []
          },
          "execution_count": 12
        }
      ]
    },
    {
      "cell_type": "code",
      "metadata": {
        "colab": {
          "base_uri": "https://localhost:8080/"
        },
        "id": "UO_4636rT1yT",
        "outputId": "b5b3d49e-2bb8-437c-cab5-c27243c509c8"
      },
      "source": [
        "dataset.pop('Origin') # Origin = 제조사가 어디인지 뜻함"
      ],
      "execution_count": null,
      "outputs": [
        {
          "output_type": "execute_result",
          "data": {
            "text/plain": [
              "0      1\n",
              "1      1\n",
              "2      1\n",
              "3      1\n",
              "4      1\n",
              "      ..\n",
              "393    1\n",
              "394    2\n",
              "395    1\n",
              "396    1\n",
              "397    1\n",
              "Name: Origin, Length: 392, dtype: int64"
            ]
          },
          "metadata": {
            "tags": []
          },
          "execution_count": 13
        }
      ]
    },
    {
      "cell_type": "code",
      "metadata": {
        "colab": {
          "base_uri": "https://localhost:8080/",
          "height": 423
        },
        "id": "3K0IcNRkUCNM",
        "outputId": "b1726f81-61db-4561-9acd-5942f5e35094"
      },
      "source": [
        "dataset"
      ],
      "execution_count": null,
      "outputs": [
        {
          "output_type": "execute_result",
          "data": {
            "text/html": [
              "<div>\n",
              "<style scoped>\n",
              "    .dataframe tbody tr th:only-of-type {\n",
              "        vertical-align: middle;\n",
              "    }\n",
              "\n",
              "    .dataframe tbody tr th {\n",
              "        vertical-align: top;\n",
              "    }\n",
              "\n",
              "    .dataframe thead th {\n",
              "        text-align: right;\n",
              "    }\n",
              "</style>\n",
              "<table border=\"1\" class=\"dataframe\">\n",
              "  <thead>\n",
              "    <tr style=\"text-align: right;\">\n",
              "      <th></th>\n",
              "      <th>MPG</th>\n",
              "      <th>Cylinders</th>\n",
              "      <th>Displacement</th>\n",
              "      <th>Horsepower</th>\n",
              "      <th>Weight</th>\n",
              "      <th>Acceleration</th>\n",
              "      <th>Model Year</th>\n",
              "    </tr>\n",
              "  </thead>\n",
              "  <tbody>\n",
              "    <tr>\n",
              "      <th>0</th>\n",
              "      <td>18.0</td>\n",
              "      <td>8</td>\n",
              "      <td>307.0</td>\n",
              "      <td>130.0</td>\n",
              "      <td>3504.0</td>\n",
              "      <td>12.0</td>\n",
              "      <td>70</td>\n",
              "    </tr>\n",
              "    <tr>\n",
              "      <th>1</th>\n",
              "      <td>15.0</td>\n",
              "      <td>8</td>\n",
              "      <td>350.0</td>\n",
              "      <td>165.0</td>\n",
              "      <td>3693.0</td>\n",
              "      <td>11.5</td>\n",
              "      <td>70</td>\n",
              "    </tr>\n",
              "    <tr>\n",
              "      <th>2</th>\n",
              "      <td>18.0</td>\n",
              "      <td>8</td>\n",
              "      <td>318.0</td>\n",
              "      <td>150.0</td>\n",
              "      <td>3436.0</td>\n",
              "      <td>11.0</td>\n",
              "      <td>70</td>\n",
              "    </tr>\n",
              "    <tr>\n",
              "      <th>3</th>\n",
              "      <td>16.0</td>\n",
              "      <td>8</td>\n",
              "      <td>304.0</td>\n",
              "      <td>150.0</td>\n",
              "      <td>3433.0</td>\n",
              "      <td>12.0</td>\n",
              "      <td>70</td>\n",
              "    </tr>\n",
              "    <tr>\n",
              "      <th>4</th>\n",
              "      <td>17.0</td>\n",
              "      <td>8</td>\n",
              "      <td>302.0</td>\n",
              "      <td>140.0</td>\n",
              "      <td>3449.0</td>\n",
              "      <td>10.5</td>\n",
              "      <td>70</td>\n",
              "    </tr>\n",
              "    <tr>\n",
              "      <th>...</th>\n",
              "      <td>...</td>\n",
              "      <td>...</td>\n",
              "      <td>...</td>\n",
              "      <td>...</td>\n",
              "      <td>...</td>\n",
              "      <td>...</td>\n",
              "      <td>...</td>\n",
              "    </tr>\n",
              "    <tr>\n",
              "      <th>393</th>\n",
              "      <td>27.0</td>\n",
              "      <td>4</td>\n",
              "      <td>140.0</td>\n",
              "      <td>86.0</td>\n",
              "      <td>2790.0</td>\n",
              "      <td>15.6</td>\n",
              "      <td>82</td>\n",
              "    </tr>\n",
              "    <tr>\n",
              "      <th>394</th>\n",
              "      <td>44.0</td>\n",
              "      <td>4</td>\n",
              "      <td>97.0</td>\n",
              "      <td>52.0</td>\n",
              "      <td>2130.0</td>\n",
              "      <td>24.6</td>\n",
              "      <td>82</td>\n",
              "    </tr>\n",
              "    <tr>\n",
              "      <th>395</th>\n",
              "      <td>32.0</td>\n",
              "      <td>4</td>\n",
              "      <td>135.0</td>\n",
              "      <td>84.0</td>\n",
              "      <td>2295.0</td>\n",
              "      <td>11.6</td>\n",
              "      <td>82</td>\n",
              "    </tr>\n",
              "    <tr>\n",
              "      <th>396</th>\n",
              "      <td>28.0</td>\n",
              "      <td>4</td>\n",
              "      <td>120.0</td>\n",
              "      <td>79.0</td>\n",
              "      <td>2625.0</td>\n",
              "      <td>18.6</td>\n",
              "      <td>82</td>\n",
              "    </tr>\n",
              "    <tr>\n",
              "      <th>397</th>\n",
              "      <td>31.0</td>\n",
              "      <td>4</td>\n",
              "      <td>119.0</td>\n",
              "      <td>82.0</td>\n",
              "      <td>2720.0</td>\n",
              "      <td>19.4</td>\n",
              "      <td>82</td>\n",
              "    </tr>\n",
              "  </tbody>\n",
              "</table>\n",
              "<p>392 rows × 7 columns</p>\n",
              "</div>"
            ],
            "text/plain": [
              "      MPG  Cylinders  Displacement  ...  Weight  Acceleration  Model Year\n",
              "0    18.0          8         307.0  ...  3504.0          12.0          70\n",
              "1    15.0          8         350.0  ...  3693.0          11.5          70\n",
              "2    18.0          8         318.0  ...  3436.0          11.0          70\n",
              "3    16.0          8         304.0  ...  3433.0          12.0          70\n",
              "4    17.0          8         302.0  ...  3449.0          10.5          70\n",
              "..    ...        ...           ...  ...     ...           ...         ...\n",
              "393  27.0          4         140.0  ...  2790.0          15.6          82\n",
              "394  44.0          4          97.0  ...  2130.0          24.6          82\n",
              "395  32.0          4         135.0  ...  2295.0          11.6          82\n",
              "396  28.0          4         120.0  ...  2625.0          18.6          82\n",
              "397  31.0          4         119.0  ...  2720.0          19.4          82\n",
              "\n",
              "[392 rows x 7 columns]"
            ]
          },
          "metadata": {
            "tags": []
          },
          "execution_count": 14
        }
      ]
    },
    {
      "cell_type": "code",
      "metadata": {
        "colab": {
          "base_uri": "https://localhost:8080/"
        },
        "id": "39MWgDSsUI_A",
        "outputId": "0be37e72-bed9-4af0-aa7e-1f81e4104f59"
      },
      "source": [
        "train_dataset = dataset.sample(frac = 0.8, random_state = 0)\n",
        "test_dataset = dataset.drop(train_dataset.index)\n",
        "\n",
        "'''\n",
        "frac = 데이터의 80%는 train으로 사용하고\n",
        "train_dataset.index = 남은 20%는 test로 사용 할 것이다.\n",
        "'''\n",
        "\n",
        "len(train_dataset), len(test_dataset)"
      ],
      "execution_count": null,
      "outputs": [
        {
          "output_type": "execute_result",
          "data": {
            "text/plain": [
              "(314, 78)"
            ]
          },
          "metadata": {
            "tags": []
          },
          "execution_count": 17
        }
      ]
    },
    {
      "cell_type": "code",
      "metadata": {
        "colab": {
          "base_uri": "https://localhost:8080/",
          "height": 237
        },
        "id": "rqaMeLypVDUr",
        "outputId": "a5ec774a-9548-49df-cb86-82740cadb60c"
      },
      "source": [
        "# 데이터 정규화 = 데이터를 통일시키는 것\n",
        "# 정규화를 하기 위해서 평균값과 표준편차가 필요하다\n",
        "\n",
        "train_stats = train_dataset.describe() # 평균과 표준편차 구하는 함수\n",
        "train_stats.pop(\"MPG\")\n",
        "train_stats = train_stats.transpose()\n",
        "train_stats"
      ],
      "execution_count": null,
      "outputs": [
        {
          "output_type": "execute_result",
          "data": {
            "text/html": [
              "<div>\n",
              "<style scoped>\n",
              "    .dataframe tbody tr th:only-of-type {\n",
              "        vertical-align: middle;\n",
              "    }\n",
              "\n",
              "    .dataframe tbody tr th {\n",
              "        vertical-align: top;\n",
              "    }\n",
              "\n",
              "    .dataframe thead th {\n",
              "        text-align: right;\n",
              "    }\n",
              "</style>\n",
              "<table border=\"1\" class=\"dataframe\">\n",
              "  <thead>\n",
              "    <tr style=\"text-align: right;\">\n",
              "      <th></th>\n",
              "      <th>count</th>\n",
              "      <th>mean</th>\n",
              "      <th>std</th>\n",
              "      <th>min</th>\n",
              "      <th>25%</th>\n",
              "      <th>50%</th>\n",
              "      <th>75%</th>\n",
              "      <th>max</th>\n",
              "    </tr>\n",
              "  </thead>\n",
              "  <tbody>\n",
              "    <tr>\n",
              "      <th>Cylinders</th>\n",
              "      <td>314.0</td>\n",
              "      <td>5.477707</td>\n",
              "      <td>1.699788</td>\n",
              "      <td>3.0</td>\n",
              "      <td>4.00</td>\n",
              "      <td>4.0</td>\n",
              "      <td>8.00</td>\n",
              "      <td>8.0</td>\n",
              "    </tr>\n",
              "    <tr>\n",
              "      <th>Displacement</th>\n",
              "      <td>314.0</td>\n",
              "      <td>195.318471</td>\n",
              "      <td>104.331589</td>\n",
              "      <td>68.0</td>\n",
              "      <td>105.50</td>\n",
              "      <td>151.0</td>\n",
              "      <td>265.75</td>\n",
              "      <td>455.0</td>\n",
              "    </tr>\n",
              "    <tr>\n",
              "      <th>Horsepower</th>\n",
              "      <td>314.0</td>\n",
              "      <td>104.869427</td>\n",
              "      <td>38.096214</td>\n",
              "      <td>46.0</td>\n",
              "      <td>76.25</td>\n",
              "      <td>94.5</td>\n",
              "      <td>128.00</td>\n",
              "      <td>225.0</td>\n",
              "    </tr>\n",
              "    <tr>\n",
              "      <th>Weight</th>\n",
              "      <td>314.0</td>\n",
              "      <td>2990.251592</td>\n",
              "      <td>843.898596</td>\n",
              "      <td>1649.0</td>\n",
              "      <td>2256.50</td>\n",
              "      <td>2822.5</td>\n",
              "      <td>3608.00</td>\n",
              "      <td>5140.0</td>\n",
              "    </tr>\n",
              "    <tr>\n",
              "      <th>Acceleration</th>\n",
              "      <td>314.0</td>\n",
              "      <td>15.559236</td>\n",
              "      <td>2.789230</td>\n",
              "      <td>8.0</td>\n",
              "      <td>13.80</td>\n",
              "      <td>15.5</td>\n",
              "      <td>17.20</td>\n",
              "      <td>24.8</td>\n",
              "    </tr>\n",
              "    <tr>\n",
              "      <th>Model Year</th>\n",
              "      <td>314.0</td>\n",
              "      <td>75.898089</td>\n",
              "      <td>3.675642</td>\n",
              "      <td>70.0</td>\n",
              "      <td>73.00</td>\n",
              "      <td>76.0</td>\n",
              "      <td>79.00</td>\n",
              "      <td>82.0</td>\n",
              "    </tr>\n",
              "  </tbody>\n",
              "</table>\n",
              "</div>"
            ],
            "text/plain": [
              "              count         mean         std  ...     50%      75%     max\n",
              "Cylinders     314.0     5.477707    1.699788  ...     4.0     8.00     8.0\n",
              "Displacement  314.0   195.318471  104.331589  ...   151.0   265.75   455.0\n",
              "Horsepower    314.0   104.869427   38.096214  ...    94.5   128.00   225.0\n",
              "Weight        314.0  2990.251592  843.898596  ...  2822.5  3608.00  5140.0\n",
              "Acceleration  314.0    15.559236    2.789230  ...    15.5    17.20    24.8\n",
              "Model Year    314.0    75.898089    3.675642  ...    76.0    79.00    82.0\n",
              "\n",
              "[6 rows x 8 columns]"
            ]
          },
          "metadata": {
            "tags": []
          },
          "execution_count": 18
        }
      ]
    },
    {
      "cell_type": "code",
      "metadata": {
        "colab": {
          "base_uri": "https://localhost:8080/",
          "height": 206
        },
        "id": "KQeXRlDvXgVU",
        "outputId": "ef2fd3d4-fd11-415b-f279-2ec706353ccb"
      },
      "source": [
        "# MPG는 맞추어야 하는 값이기 떄문에 정규화 작업에서 배제한다.\n",
        "\n",
        "#train_labels = train_dataset.pop('MPG')\n",
        "#test_labels = test_dataset.pop('MPG')\n",
        "\n",
        "def norm(x) :\n",
        "  return (x - train_stats['mean']) / train_stats['std']\n",
        "\n",
        "normed_train_data = norm(train_dataset)\n",
        "normed_test_data = norm(test_dataset)\n",
        "\n",
        "normed_train_data.head()"
      ],
      "execution_count": null,
      "outputs": [
        {
          "output_type": "execute_result",
          "data": {
            "text/html": [
              "<div>\n",
              "<style scoped>\n",
              "    .dataframe tbody tr th:only-of-type {\n",
              "        vertical-align: middle;\n",
              "    }\n",
              "\n",
              "    .dataframe tbody tr th {\n",
              "        vertical-align: top;\n",
              "    }\n",
              "\n",
              "    .dataframe thead th {\n",
              "        text-align: right;\n",
              "    }\n",
              "</style>\n",
              "<table border=\"1\" class=\"dataframe\">\n",
              "  <thead>\n",
              "    <tr style=\"text-align: right;\">\n",
              "      <th></th>\n",
              "      <th>Cylinders</th>\n",
              "      <th>Displacement</th>\n",
              "      <th>Horsepower</th>\n",
              "      <th>Weight</th>\n",
              "      <th>Acceleration</th>\n",
              "      <th>Model Year</th>\n",
              "    </tr>\n",
              "  </thead>\n",
              "  <tbody>\n",
              "    <tr>\n",
              "      <th>146</th>\n",
              "      <td>-0.869348</td>\n",
              "      <td>-1.009459</td>\n",
              "      <td>-0.784052</td>\n",
              "      <td>-1.025303</td>\n",
              "      <td>-0.379759</td>\n",
              "      <td>-0.516397</td>\n",
              "    </tr>\n",
              "    <tr>\n",
              "      <th>282</th>\n",
              "      <td>-0.869348</td>\n",
              "      <td>-0.530218</td>\n",
              "      <td>-0.442811</td>\n",
              "      <td>-0.118796</td>\n",
              "      <td>0.624102</td>\n",
              "      <td>0.843910</td>\n",
              "    </tr>\n",
              "    <tr>\n",
              "      <th>69</th>\n",
              "      <td>1.483887</td>\n",
              "      <td>1.482595</td>\n",
              "      <td>1.447140</td>\n",
              "      <td>1.736877</td>\n",
              "      <td>-0.738281</td>\n",
              "      <td>-1.060519</td>\n",
              "    </tr>\n",
              "    <tr>\n",
              "      <th>378</th>\n",
              "      <td>-0.869348</td>\n",
              "      <td>-0.865687</td>\n",
              "      <td>-1.099044</td>\n",
              "      <td>-1.025303</td>\n",
              "      <td>-0.308055</td>\n",
              "      <td>1.660094</td>\n",
              "    </tr>\n",
              "    <tr>\n",
              "      <th>331</th>\n",
              "      <td>-0.869348</td>\n",
              "      <td>-0.942365</td>\n",
              "      <td>-0.994047</td>\n",
              "      <td>-1.001603</td>\n",
              "      <td>0.875068</td>\n",
              "      <td>1.115971</td>\n",
              "    </tr>\n",
              "  </tbody>\n",
              "</table>\n",
              "</div>"
            ],
            "text/plain": [
              "     Cylinders  Displacement  Horsepower    Weight  Acceleration  Model Year\n",
              "146  -0.869348     -1.009459   -0.784052 -1.025303     -0.379759   -0.516397\n",
              "282  -0.869348     -0.530218   -0.442811 -0.118796      0.624102    0.843910\n",
              "69    1.483887      1.482595    1.447140  1.736877     -0.738281   -1.060519\n",
              "378  -0.869348     -0.865687   -1.099044 -1.025303     -0.308055    1.660094\n",
              "331  -0.869348     -0.942365   -0.994047 -1.001603      0.875068    1.115971"
            ]
          },
          "metadata": {
            "tags": []
          },
          "execution_count": 30
        }
      ]
    },
    {
      "cell_type": "code",
      "metadata": {
        "id": "0Mv5DWRrY5nf",
        "colab": {
          "base_uri": "https://localhost:8080/"
        },
        "outputId": "bbe13a68-3c2a-4fbb-a756-d9ebbdf1faf4"
      },
      "source": [
        "normed_train_data.shape \n",
        "'''\n",
        "314 = 314줄이 있다는 것을 알려주고 데이터 추가 삭제에 따라 수가 달라지기 때문에 가변적이다.\n",
        "6 = 칼럼이 6개 있다는 것이며, Cylinders ~ Model Year까지의 수이다. 따라서 고정되어있다.\n",
        "# 6이란 수는 고정되기 때문에 이를 중심으로 한다.\n",
        "'''"
      ],
      "execution_count": 31,
      "outputs": [
        {
          "output_type": "execute_result",
          "data": {
            "text/plain": [
              "(314, 6)"
            ]
          },
          "metadata": {
            "tags": []
          },
          "execution_count": 31
        }
      ]
    },
    {
      "cell_type": "code",
      "metadata": {
        "colab": {
          "base_uri": "https://localhost:8080/"
        },
        "id": "BA3zf20ylQ7J",
        "outputId": "a45efa31-75f0-4e2c-d41e-0c15272a2032"
      },
      "source": [
        "inputs = keras.Input(shape = (normed_train_data.shape[1],))\n",
        "#shape[1] = 6\n",
        "h = layers.Dense(64)(inputs) # 행렬의 사이즈를 정해주는 것. 수는 어떤 것이든 상관 없다.\n",
        "\n",
        "# input과 output사에이 있는 layer을 hidden layer이라고 한다.\n",
        "# 이를 추가 하고 싶을 떄 밑에 있는 것과 같이 써주면 된다. 수는 상관이 없다.\n",
        "h = layers.Dense(32)(h)\n",
        "\n",
        "outputs = layers.Dense(1)(h) # MPG 하나의 항목에 닶을 맞추어야 하기 때문에 1로 지정\n",
        "\n",
        "model = keras.Model(inputs = inputs, outputs = outputs)\n",
        "\n",
        "model.compile(loss = 'mse', optimizer = tf.keras.optimizers.RMSprop(0.001))\n",
        "'''\n",
        "compile = 모델이 학습하게 만들어 준다.\n",
        "\n",
        "layer(실제 모델) <--> y = x * W + b (모델)   -> 두개의 차이를 줄여나가는 것이 머신러닝의 원리\n",
        "\n",
        "optimizer = 모델이 오차가 발생을 했을 때 W와 b의 값을 어떻게 변경할지에 대해 관리함\n",
        "\n",
        "'''\n",
        "\n",
        "model.summary() # summary 메서드를 사용해 모델의 간단한 정보 출력"
      ],
      "execution_count": 38,
      "outputs": [
        {
          "output_type": "stream",
          "text": [
            "Model: \"model_2\"\n",
            "_________________________________________________________________\n",
            "Layer (type)                 Output Shape              Param #   \n",
            "=================================================================\n",
            "input_3 (InputLayer)         [(None, 6)]               0         \n",
            "_________________________________________________________________\n",
            "dense_4 (Dense)              (None, 64)                448       \n",
            "_________________________________________________________________\n",
            "dense_5 (Dense)              (None, 32)                2080      \n",
            "_________________________________________________________________\n",
            "dense_6 (Dense)              (None, 1)                 33        \n",
            "=================================================================\n",
            "Total params: 2,561\n",
            "Trainable params: 2,561\n",
            "Non-trainable params: 0\n",
            "_________________________________________________________________\n"
          ],
          "name": "stdout"
        }
      ]
    },
    {
      "cell_type": "code",
      "metadata": {
        "colab": {
          "base_uri": "https://localhost:8080/",
          "height": 312
        },
        "id": "iI2sgDygnp8o",
        "outputId": "8eb322de-5256-4f2e-bdb6-f7b5a9eeda00"
      },
      "source": [
        "keras.utils.plot_model(model, \"my_first_model_with_shape_info.png\", show_shapes = True)\n",
        "# layer에 따라 시각화를 좀 더 보기 쉽게 해주었다."
      ],
      "execution_count": 37,
      "outputs": [
        {
          "output_type": "execute_result",
          "data": {
            "image/png": "[encoded data removed]",
            "text/plain": [
              "<IPython.core.display.Image object>"
            ]
          },
          "metadata": {
            "tags": []
          },
          "execution_count": 37
        }
      ]
    },
    {
      "cell_type": "code",
      "metadata": {
        "colab": {
          "base_uri": "https://localhost:8080/"
        },
        "id": "-lkiX_5tqLa6",
        "outputId": "7c3bf732-4628-4499-9775-f5f87a3eff6c"
      },
      "source": [
        "normed_train_data[:5] # 데이터의 일부분을 가져오는 것\n",
        "normed_train_data[:5].shape"
      ],
      "execution_count": 42,
      "outputs": [
        {
          "output_type": "execute_result",
          "data": {
            "text/plain": [
              "(5, 6)"
            ]
          },
          "metadata": {
            "tags": []
          },
          "execution_count": 42
        }
      ]
    },
    {
      "cell_type": "code",
      "metadata": {
        "colab": {
          "base_uri": "https://localhost:8080/"
        },
        "id": "BxkcDsLWn2_e",
        "outputId": "be614cca-8caa-44c9-c223-8423ad35114c"
      },
      "source": [
        "example_batch = normed_train_data[:5]\n",
        "example_result = model.predict(example_batch) # predict = 모델에 넣어 예측을 하고 싶을 때 쓰는 함수\n",
        "example_result"
      ],
      "execution_count": 43,
      "outputs": [
        {
          "output_type": "execute_result",
          "data": {
            "text/plain": [
              "array([[ 0.57673603],\n",
              "       [-0.21669436],\n",
              "       [ 0.24959892],\n",
              "       [-0.95678705],\n",
              "       [-0.42987305]], dtype=float32)"
            ]
          },
          "metadata": {
            "tags": []
          },
          "execution_count": 43
        }
      ]
    },
    {
      "cell_type": "code",
      "metadata": {
        "colab": {
          "base_uri": "https://localhost:8080/",
          "height": 465
        },
        "id": "fC7Omw9mqs-S",
        "outputId": "d25543ca-c45b-45e1-db8d-e3fdc8882dc7"
      },
      "source": [
        "# 모델 학습\n",
        "\n",
        "EPOCHS = 50  # epochs = 전체 데이터를 한번 훑는 것이 1 epochs이라고 한다.\n",
        "             # 여기서는 50번을 반복한다.\n",
        "\n",
        "history = model.fit(\n",
        "    normed_train_data, train_labels,\n",
        "    epochs = EPOCHS, validation_split = 0.2)\n",
        "\n",
        "'''\n",
        "fit = 학습을 시키는 함수이다.\n",
        "fit 함수 안에 넣어야하는 값들 -> (input 데이터 = x, 결과값 = y, epoch 값)\n",
        "validation = 모델을 계속 트래이닝 할 때 너무 똑똑해질 경우(과접합)를 막기 위해\n",
        "             어느정도 수준까지만 학습하도록 막아주는 것\n",
        "\n",
        "결과 값에 대한 설명\n",
        "\n",
        "loss = 트레이닝에 대한 결과이며, 횟수가 지날수록 수가 작아진다.\n",
        "'''"
      ],
      "execution_count": 48,
      "outputs": [
        {
          "output_type": "stream",
          "text": [
            "Epoch 1/10\n",
            "8/8 [==============================] - 0s 14ms/step - loss: 12.3405 - val_loss: 13.8976\n",
            "Epoch 2/10\n",
            "8/8 [==============================] - 0s 4ms/step - loss: 12.6641 - val_loss: 12.1526\n",
            "Epoch 3/10\n",
            "8/8 [==============================] - 0s 5ms/step - loss: 12.2828 - val_loss: 12.3966\n",
            "Epoch 4/10\n",
            "8/8 [==============================] - 0s 4ms/step - loss: 12.6291 - val_loss: 12.0776\n",
            "Epoch 5/10\n",
            "8/8 [==============================] - 0s 4ms/step - loss: 12.4215 - val_loss: 12.4757\n",
            "Epoch 6/10\n",
            "8/8 [==============================] - 0s 4ms/step - loss: 12.4168 - val_loss: 11.7516\n",
            "Epoch 7/10\n",
            "8/8 [==============================] - 0s 8ms/step - loss: 12.4037 - val_loss: 11.8100\n",
            "Epoch 8/10\n",
            "8/8 [==============================] - 0s 4ms/step - loss: 12.3126 - val_loss: 11.9154\n",
            "Epoch 9/10\n",
            "8/8 [==============================] - 0s 6ms/step - loss: 12.5576 - val_loss: 12.0332\n",
            "Epoch 10/10\n",
            "8/8 [==============================] - 0s 4ms/step - loss: 12.6044 - val_loss: 12.4889\n"
          ],
          "name": "stdout"
        },
        {
          "output_type": "execute_result",
          "data": {
            "application/vnd.google.colaboratory.intrinsic+json": {
              "type": "string"
            },
            "text/plain": [
              "'\\nfit = 학습을 시키는 함수이다.\\nfit 함수 안에 넣어야하는 값들 -> (input 데이터 = x, 결과값 = y, epoch 값)\\nvalidation = 모델을 계속 트래이닝 할 때 너무 똑똑해질 경우(과접합)를 막기 위해\\n             어느정도 수준까지만 학습하도록 막아주는 것\\n\\n결과 값에 대한 설명\\n\\nloss = 트레이닝에 대한 결과이며, 횟수가 지날수록 수가 작아진다.\\n'"
            ]
          },
          "metadata": {
            "tags": []
          },
          "execution_count": 48
        }
      ]
    },
    {
      "cell_type": "code",
      "metadata": {
        "colab": {
          "base_uri": "https://localhost:8080/"
        },
        "id": "IEWxQMQyunNq",
        "outputId": "4a86680a-2863-4331-d087-f4b423a81590"
      },
      "source": [
        "early_stop = keras.callbacks.EarlyStopping(monitor = 'val_loss', patience = 10)\n",
        "# callbacks.EarlyStopping = 언제 트레이닝을 멈추겠다를 지정해주는 함수\n",
        "# patience = 10 : val_loss가 10번 반복해서 값이 변하지 않았을 때 학습을 멈추도록 해줌\n",
        "\n",
        "model.fit(normed_train_data, train_labels, epochs = EPOCHS, \n",
        "          validation_split = 0.2, callbacks = [early_stop])\n",
        "# early_stop을 callbacks으로 넘겨줌"
      ],
      "execution_count": 52,
      "outputs": [
        {
          "output_type": "stream",
          "text": [
            "Epoch 1/10\n",
            "8/8 [==============================] - 0s 12ms/step - loss: 12.6757 - val_loss: 11.6497\n",
            "Epoch 2/10\n",
            "8/8 [==============================] - 0s 5ms/step - loss: 12.4061 - val_loss: 12.3365\n",
            "Epoch 3/10\n",
            "8/8 [==============================] - 0s 5ms/step - loss: 12.4015 - val_loss: 11.9377\n",
            "Epoch 4/10\n",
            "8/8 [==============================] - 0s 5ms/step - loss: 12.3978 - val_loss: 12.4941\n",
            "Epoch 5/10\n",
            "8/8 [==============================] - 0s 6ms/step - loss: 12.6998 - val_loss: 11.8540\n",
            "Epoch 6/10\n",
            "8/8 [==============================] - 0s 5ms/step - loss: 12.5525 - val_loss: 12.6946\n",
            "Epoch 7/10\n",
            "8/8 [==============================] - 0s 5ms/step - loss: 12.3118 - val_loss: 14.3841\n",
            "Epoch 8/10\n",
            "8/8 [==============================] - 0s 6ms/step - loss: 12.3441 - val_loss: 12.2754\n",
            "Epoch 9/10\n",
            "8/8 [==============================] - 0s 5ms/step - loss: 12.5202 - val_loss: 12.4062\n",
            "Epoch 10/10\n",
            "8/8 [==============================] - 0s 5ms/step - loss: 12.6660 - val_loss: 12.8892\n"
          ],
          "name": "stdout"
        },
        {
          "output_type": "execute_result",
          "data": {
            "text/plain": [
              "<tensorflow.python.keras.callbacks.History at 0x7fa7109c0790>"
            ]
          },
          "metadata": {
            "tags": []
          },
          "execution_count": 52
        }
      ]
    },
    {
      "cell_type": "code",
      "metadata": {
        "colab": {
          "base_uri": "https://localhost:8080/"
        },
        "id": "NGGmiBZ0u3mG",
        "outputId": "f0446056-0dcf-4d0f-a23e-f70878c90cc3"
      },
      "source": [
        "# 모델에 대한 평가\n",
        "\n",
        "loss = model.evaluate(normed_test_data, test_labels, verbose = 2)\n",
        "print(\"테스트 세트의 평균 절대 오차 : {:5.2f} MPG\".format(loss))"
      ],
      "execution_count": 51,
      "outputs": [
        {
          "output_type": "stream",
          "text": [
            "3/3 - 0s - loss: 10.8914\n",
            "테스트 세트의 평균 절대 오차 : 10.89 MPG\n"
          ],
          "name": "stdout"
        }
      ]
    },
    {
      "cell_type": "code",
      "metadata": {
        "colab": {
          "base_uri": "https://localhost:8080/",
          "height": 279
        },
        "id": "c2rulaZ1vThj",
        "outputId": "49f7b944-bef3-4994-8db5-c24709f5ed8d"
      },
      "source": [
        "# 실제로 예측한 값을 직접 구하고 싶을 떄\n",
        "\n",
        "test_predictions = model.predict(normed_test_data).flatten()\n",
        "\n",
        "plt.scatter(test_labels, test_predictions) # 실제 값과 예측 값을 비교하기\n",
        "plt.xlabel('True Values [MPG]')\n",
        "plt.ylabel('Predictions [MPG]')\n",
        "plt.axis('equal')\n",
        "plt.axis('square')\n",
        "plt.xlim([0,plt.xlim()[1]])\n",
        "plt.ylim([0,plt.ylim()[1]])\n",
        "_ = plt.plot([-100, 100], [-100, 100])"
      ],
      "execution_count": 54,
      "outputs": [
        {
          "output_type": "display_data",
          "data": {
            "image/png": "[encoded data removed]",
            "text/plain": [
              "<Figure size 432x288 with 1 Axes>"
            ]
          },
          "metadata": {
            "tags": [],
            "needs_background": "light"
          }
        }
      ]
    },
    {
      "cell_type": "code",
      "metadata": {
        "id": "lc5NJscFwDj1"
      },
      "source": [
        ""
      ],
      "execution_count": null,
      "outputs": []
    }
  ]
}